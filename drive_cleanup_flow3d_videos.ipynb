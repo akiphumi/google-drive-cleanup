{
  "nbformat": 4,
  "nbformat_minor": 0,
  "metadata": {
    "colab": {
      "provenance": []
    },
    "kernelspec": {
      "name": "python3",
      "display_name": "Python 3"
    },
    "language_info": {
      "name": "python"
    }
  },
  "cells": [
    {
      "cell_type": "code",
      "source": [
        "# 🔐 Step 1: Google Drive 認証\n",
        "from google.colab import auth\n",
        "auth.authenticate_user()\n",
        "\n",
        "from googleapiclient.discovery import build\n",
        "from googleapiclient.errors import HttpError\n",
        "from oauth2client.client import GoogleCredentials\n",
        "\n",
        "import pandas as pd\n",
        "import datetime\n",
        "import pytz\n",
        "\n",
        "creds = GoogleCredentials.get_application_default()\n",
        "drive_service = build('drive', 'v3', credentials=creds)"
      ],
      "metadata": {
        "id": "YGKvaFFRGNB4"
      },
      "execution_count": 13,
      "outputs": []
    },
    {
      "cell_type": "code",
      "source": [
        "# 📁 Step 2: Drive ファイル一覧の取得\n",
        "def list_drive_files():\n",
        "    results = drive_service.files().list(\n",
        "        pageSize=1000,\n",
        "        fields=\"files(id, name, size, mimeType, modifiedTime, parents)\"\n",
        "    ).execute()\n",
        "    files = results.get('files', [])\n",
        "    return pd.DataFrame(files)\n",
        "\n",
        "df = list_drive_files()\n",
        "df['size'] = df['size'].astype(float) / (1024 * 1024)  # MB変換\n",
        "df['modifiedTime'] = pd.to_datetime(df['modifiedTime'])\n",
        "\n",
        "# サイズや古さによる分類\n",
        "utc_now = datetime.datetime.now(pytz.utc)\n",
        "old_files = df[df['modifiedTime'] < (utc_now - datetime.timedelta(days=365))]\n",
        "large_files = df[df['size'] > 50]"
      ],
      "metadata": {
        "id": "k-z4Eqf6GQt2"
      },
      "execution_count": 14,
      "outputs": []
    },
    {
      "cell_type": "code",
      "source": [
        "# 📁 Step 3: アーカイブフォルダの作成・取得\n",
        "def get_or_create_folder(name, parent_id=None):\n",
        "    query = f\"name='{name}' and mimeType='application/vnd.google-apps.folder'\"\n",
        "    if parent_id:\n",
        "        query += f\" and '{parent_id}' in parents\"\n",
        "    results = drive_service.files().list(q=query, spaces='drive', fields='files(id, name)').execute()\n",
        "    folders = results.get('files', [])\n",
        "    if folders:\n",
        "        return folders[0]['id']\n",
        "    else:\n",
        "        folder_metadata = {\n",
        "            'name': name,\n",
        "            'mimeType': 'application/vnd.google-apps.folder',\n",
        "        }\n",
        "        if parent_id:\n",
        "            folder_metadata['parents'] = [parent_id]\n",
        "        folder = drive_service.files().create(body=folder_metadata, fields='id').execute()\n",
        "        return folder.get('id')\n",
        "\n",
        "# フォルダ階層：Archive > Videos > FLOW-3D\n",
        "archive_id = get_or_create_folder(\"Archive\")\n",
        "videos_id = get_or_create_folder(\"Videos\", parent_id=archive_id)\n",
        "flow3d_id = get_or_create_folder(\"FLOW-3D\", parent_id=videos_id)\n",
        "print(f\"Target folder ID: {flow3d_id}\")"
      ],
      "metadata": {
        "colab": {
          "base_uri": "https://localhost:8080/"
        },
        "id": "L51TxSl0GWOG",
        "outputId": "f557f99e-843e-4755-d539-f9602a48a6d5"
      },
      "execution_count": 15,
      "outputs": [
        {
          "output_type": "stream",
          "name": "stdout",
          "text": [
            "Target folder ID: 17Q4id9RG6uKj7jTTG-vkd1Tqt1mxBUDu\n"
          ]
        }
      ]
    },
    {
      "cell_type": "code",
      "source": [
        "# 📦 Step 4: 対象ファイル名のリスト\n",
        "file_names_to_move = [\n",
        "    \"HPDC- Filling (Part 2).mp4\",\n",
        "    \"What's New in FLOW-3D CAST v5.mp4\",\n",
        "    \"What's New in FLOW-3D Cast v4.1.mp4\",\n",
        "    \"What's New in FLOW-3D Cast v4.2.mp4\",\n",
        "    \"HPDC Thermal Die Cycling.mp4\",\n",
        "    \"HPDC Solidification.mp4\",\n",
        "    \"Simplified Filling - FLOW-3D Users Site.mp4\"\n",
        "]"
      ],
      "metadata": {
        "id": "TmOCwLq8GaZA"
      },
      "execution_count": 16,
      "outputs": []
    },
    {
      "cell_type": "code",
      "source": [
        "# 📤 Step 5: ファイル移動用の関数（アポストロフィ対応付き）\n",
        "def escape_drive_query(s):\n",
        "    return s.replace(\"'\", r\"\\'\")  # クエリ用にエスケープ\n",
        "\n",
        "def move_files_to_folder(file_names, destination_folder_id):\n",
        "    for name in file_names:\n",
        "        escaped_name = escape_drive_query(name)\n",
        "        query = f\"name='{escaped_name}' and trashed=false\"\n",
        "        try:\n",
        "            results = drive_service.files().list(\n",
        "                q=query,\n",
        "                fields=\"files(id, name, parents)\",\n",
        "                spaces='drive'\n",
        "            ).execute()\n",
        "            files = results.get('files', [])\n",
        "            if not files:\n",
        "                print(f\"❌ Not found: {name}\")\n",
        "                continue\n",
        "            file = files[0]\n",
        "            file_id = file['id']\n",
        "            prev_parents = \",\".join(file.get('parents', []))\n",
        "            drive_service.files().update(\n",
        "                fileId=file_id,\n",
        "                addParents=destination_folder_id,\n",
        "                removeParents=prev_parents,\n",
        "                fields='id, parents'\n",
        "            ).execute()\n",
        "            print(f\"✅ Moved: {name}\")\n",
        "        except Exception as e:\n",
        "            print(f\"❌ Failed: {name} → {e}\")"
      ],
      "metadata": {
        "id": "KQ2Kgi_UGfQx"
      },
      "execution_count": 17,
      "outputs": []
    },
    {
      "cell_type": "code",
      "source": [
        "# 🚀 Step 6: ファイル移動の実行\n",
        "move_files_to_folder(file_names_to_move, flow3d_id)"
      ],
      "metadata": {
        "colab": {
          "base_uri": "https://localhost:8080/"
        },
        "id": "eLnDyRL_GkP4",
        "outputId": "29589742-cc8a-4549-bac9-80b4a0ccd219"
      },
      "execution_count": 18,
      "outputs": [
        {
          "output_type": "stream",
          "name": "stdout",
          "text": [
            "✅ Moved: HPDC- Filling (Part 2).mp4\n",
            "✅ Moved: What's New in FLOW-3D CAST v5.mp4\n",
            "✅ Moved: What's New in FLOW-3D Cast v4.1.mp4\n",
            "✅ Moved: What's New in FLOW-3D Cast v4.2.mp4\n",
            "✅ Moved: HPDC Thermal Die Cycling.mp4\n",
            "✅ Moved: HPDC Solidification.mp4\n",
            "✅ Moved: Simplified Filling - FLOW-3D Users Site.mp4\n"
          ]
        }
      ]
    }
  ]
}